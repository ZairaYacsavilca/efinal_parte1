{
 "cells": [
  {
   "cell_type": "code",
   "execution_count": null,
   "id": "e155a3a8",
   "metadata": {},
   "outputs": [],
   "source": [
    "#EVALUACION FINAL PARTE 1"
   ]
  },
  {
   "cell_type": "code",
   "execution_count": 2,
   "id": "44cfb407",
   "metadata": {},
   "outputs": [
    {
     "data": {
      "text/plain": [
       "['airports',\n",
       " 'states',\n",
       " 'municipalities',\n",
       " 'country',\n",
       " 'cities',\n",
       " 'rivers',\n",
       " 'border']"
      ]
     },
     "execution_count": 2,
     "metadata": {},
     "output_type": "execute_result"
    }
   ],
   "source": [
    "from  fiona import listlayers\n",
    "import os\n",
    "\n",
    "colombiaMaps=os.path.join('maps','colombiaMaps_21897_all.gpkg')\n",
    "\n",
    "#layers in maps\n",
    "listlayers(colombiaMaps)"
   ]
  },
  {
   "cell_type": "code",
   "execution_count": null,
   "id": "9d26d7ea",
   "metadata": {},
   "outputs": [],
   "source": []
  }
 ],
 "metadata": {
  "kernelspec": {
   "display_name": "Python 3 (ipykernel)",
   "language": "python",
   "name": "python3"
  },
  "language_info": {
   "codemirror_mode": {
    "name": "ipython",
    "version": 3
   },
   "file_extension": ".py",
   "mimetype": "text/x-python",
   "name": "python",
   "nbconvert_exporter": "python",
   "pygments_lexer": "ipython3",
   "version": "3.11.5"
  }
 },
 "nbformat": 4,
 "nbformat_minor": 5
}
